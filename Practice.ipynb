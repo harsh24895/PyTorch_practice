{
  "nbformat": 4,
  "nbformat_minor": 0,
  "metadata": {
    "colab": {
      "provenance": [],
      "gpuType": "T4",
      "authorship_tag": "ABX9TyP4Oc4RzThCiRpi4TjADgVL"
    },
    "kernelspec": {
      "name": "python3",
      "display_name": "Python 3"
    },
    "language_info": {
      "name": "python"
    },
    "accelerator": "GPU"
  },
  "cells": [
    {
      "cell_type": "code",
      "execution_count": null,
      "metadata": {
        "colab": {
          "base_uri": "https://localhost:8080/"
        },
        "id": "eiBRHBQg9L_r",
        "outputId": "134e6201-d42a-4289-f4b9-bcbefdc3d7d5"
      },
      "outputs": [
        {
          "output_type": "execute_result",
          "data": {
            "text/plain": [
              "tensor([[3.6495e-15, 4.4608e-41, 3.6495e-15, 4.4608e-41, 0.0000e+00, 0.0000e+00,\n",
              "         0.0000e+00],\n",
              "        [0.0000e+00, 1.8934e+23, 7.2076e+31, 2.0196e-19, 6.8714e+19, 2.0615e-19,\n",
              "         1.8616e+25],\n",
              "        [1.8493e+20, 1.8522e+28, 1.7444e+28, 7.1463e+22, 7.4937e+31, 1.3556e-19,\n",
              "         4.0069e+24],\n",
              "        [1.8499e+20, 4.8561e+33, 4.6114e+24, 7.0292e+28, 1.1288e+27, 5.0848e+31,\n",
              "         2.9602e+29],\n",
              "        [1.7938e+25, 1.8492e+20, 2.1123e-19, 4.8613e+30, 1.8987e+28, 7.2251e+28,\n",
              "         1.3556e-19],\n",
              "        [6.2018e+22, 1.8759e+28, 4.0070e+24, 2.8031e+20, 1.8936e+23, 7.2076e+31,\n",
              "         2.0196e-19],\n",
              "        [6.8714e+19, 1.3556e-19, 3.8252e+30, 8.9773e-33, 1.3563e-19, 1.3563e-19,\n",
              "         1.5791e-19]])"
            ]
          },
          "metadata": {},
          "execution_count": 1
        }
      ],
      "source": [
        "import torch\n",
        "\n",
        "torchSeven = torch.Tensor(7,7)\n",
        "torchSeven"
      ]
    },
    {
      "cell_type": "code",
      "source": [
        "tensor2 = torch.rand(1,7)\n",
        "tensor2\n",
        "tensor2.shape"
      ],
      "metadata": {
        "colab": {
          "base_uri": "https://localhost:8080/"
        },
        "id": "NgiLIxR5BRS5",
        "outputId": "0e46b047-822e-4718-bfce-9f9fd59c3e69"
      },
      "execution_count": null,
      "outputs": [
        {
          "output_type": "execute_result",
          "data": {
            "text/plain": [
              "torch.Size([1, 7])"
            ]
          },
          "metadata": {},
          "execution_count": 2
        }
      ]
    },
    {
      "cell_type": "code",
      "source": [
        "tensor2.T\n",
        "tensor2.T.shape"
      ],
      "metadata": {
        "colab": {
          "base_uri": "https://localhost:8080/"
        },
        "id": "J6ZbIIBE_iuF",
        "outputId": "604d0cf6-dd36-470f-fb27-682ad726b627"
      },
      "execution_count": null,
      "outputs": [
        {
          "output_type": "execute_result",
          "data": {
            "text/plain": [
              "torch.Size([7, 1])"
            ]
          },
          "metadata": {},
          "execution_count": 3
        }
      ]
    },
    {
      "cell_type": "code",
      "source": [
        "\n",
        "torch.mm(torchSeven,tensor2.T)"
      ],
      "metadata": {
        "colab": {
          "base_uri": "https://localhost:8080/"
        },
        "id": "9u_ilhb7DFRZ",
        "outputId": "9032d531-5f9f-4a31-c24b-4122a5668337"
      },
      "execution_count": null,
      "outputs": [
        {
          "output_type": "execute_result",
          "data": {
            "text/plain": [
              "tensor([[5.8199e-15],\n",
              "        [6.7659e+31],\n",
              "        [4.8422e+31],\n",
              "        [7.9617e+32],\n",
              "        [3.1205e+30],\n",
              "        [3.5591e+31],\n",
              "        [3.5908e+30]])"
            ]
          },
          "metadata": {},
          "execution_count": 4
        }
      ]
    },
    {
      "cell_type": "code",
      "source": [
        "test = torch.zeros(size=(1,7))\n",
        "test\n"
      ],
      "metadata": {
        "colab": {
          "base_uri": "https://localhost:8080/"
        },
        "id": "rgQC8ldoDxUH",
        "outputId": "bc8f4820-87a4-43b1-852c-a80ab7c035c9"
      },
      "execution_count": null,
      "outputs": [
        {
          "output_type": "execute_result",
          "data": {
            "text/plain": [
              "tensor([[0., 0., 0., 0., 0., 0., 0.]])"
            ]
          },
          "metadata": {},
          "execution_count": 5
        }
      ]
    },
    {
      "cell_type": "code",
      "source": [
        "test2 = torch.zeros(size=(7,7))\n",
        "test2"
      ],
      "metadata": {
        "colab": {
          "base_uri": "https://localhost:8080/"
        },
        "id": "PkCLFcNqD3JP",
        "outputId": "0f23163c-a812-4c3a-ac3f-469c1dc85533"
      },
      "execution_count": null,
      "outputs": [
        {
          "output_type": "execute_result",
          "data": {
            "text/plain": [
              "tensor([[0., 0., 0., 0., 0., 0., 0.],\n",
              "        [0., 0., 0., 0., 0., 0., 0.],\n",
              "        [0., 0., 0., 0., 0., 0., 0.],\n",
              "        [0., 0., 0., 0., 0., 0., 0.],\n",
              "        [0., 0., 0., 0., 0., 0., 0.],\n",
              "        [0., 0., 0., 0., 0., 0., 0.],\n",
              "        [0., 0., 0., 0., 0., 0., 0.]])"
            ]
          },
          "metadata": {},
          "execution_count": 6
        }
      ]
    },
    {
      "cell_type": "code",
      "source": [
        "#4\n",
        "test.T\n",
        "test.T.shape\n",
        "\n",
        "#here we transpose all zeros to ones\n",
        "torch.mm(test2,test.T)"
      ],
      "metadata": {
        "colab": {
          "base_uri": "https://localhost:8080/"
        },
        "id": "oJJCKPbVtGOc",
        "outputId": "be73a438-8ed3-4693-c158-9f4aa2068788"
      },
      "execution_count": null,
      "outputs": [
        {
          "output_type": "execute_result",
          "data": {
            "text/plain": [
              "tensor([[0.],\n",
              "        [0.],\n",
              "        [0.],\n",
              "        [0.],\n",
              "        [0.],\n",
              "        [0.],\n",
              "        [0.]])"
            ]
          },
          "metadata": {},
          "execution_count": 7
        }
      ]
    },
    {
      "cell_type": "code",
      "source": [
        "#5\n",
        "torch.cuda.manual_seed(1234)"
      ],
      "metadata": {
        "id": "auLT9vu1zBz9"
      },
      "execution_count": null,
      "outputs": []
    },
    {
      "cell_type": "code",
      "source": [
        "#6\n",
        "torch.manual_seed(1234)\n",
        "#check for access to GPU\n",
        "device = \"cuda\" if torch.cuda.is_available() else\"cpu\"\n",
        "print(f\"Device:{device}\")\n",
        "\n",
        "\n",
        "a = torch.rand(size=(2,3)).to(device)\n",
        "b = torch.rand(size=(2,3)).to(device)\n",
        "a,b"
      ],
      "metadata": {
        "colab": {
          "base_uri": "https://localhost:8080/"
        },
        "id": "nqvXXlZj0PXv",
        "outputId": "1f5d2b98-3626-4a02-a2e2-d211f8b878ae"
      },
      "execution_count": null,
      "outputs": [
        {
          "output_type": "stream",
          "name": "stdout",
          "text": [
            "Device:cuda\n"
          ]
        },
        {
          "output_type": "execute_result",
          "data": {
            "text/plain": [
              "(tensor([[0.0290, 0.4019, 0.2598],\n",
              "         [0.3666, 0.0583, 0.7006]], device='cuda:0'),\n",
              " tensor([[0.0518, 0.4681, 0.6738],\n",
              "         [0.3315, 0.7837, 0.5631]], device='cuda:0'))"
            ]
          },
          "metadata": {},
          "execution_count": 9
        }
      ]
    },
    {
      "cell_type": "code",
      "source": [
        "#7\n",
        "#need to transpos the matrix\n",
        "b.T\n",
        "b.T.shape\n"
      ],
      "metadata": {
        "colab": {
          "base_uri": "https://localhost:8080/"
        },
        "id": "0NVwgCyY5AiM",
        "outputId": "915f1593-0fa1-4608-dc17-e657b4952c80"
      },
      "execution_count": null,
      "outputs": [
        {
          "output_type": "execute_result",
          "data": {
            "text/plain": [
              "torch.Size([3, 2])"
            ]
          },
          "metadata": {},
          "execution_count": 10
        }
      ]
    },
    {
      "cell_type": "code",
      "source": [
        "#7 continue\n",
        "torch.mm(a,b.T)"
      ],
      "metadata": {
        "colab": {
          "base_uri": "https://localhost:8080/"
        },
        "id": "CBCOntFh5vWW",
        "outputId": "42e0e7bf-b0d0-49ac-b2db-70ebfce58ce6"
      },
      "execution_count": null,
      "outputs": [
        {
          "output_type": "execute_result",
          "data": {
            "text/plain": [
              "tensor([[0.3647, 0.4709],\n",
              "        [0.5184, 0.5617]], device='cuda:0')"
            ]
          },
          "metadata": {},
          "execution_count": 11
        }
      ]
    },
    {
      "cell_type": "code",
      "source": [
        "#8\n",
        "max = torch.max(a)\n",
        "max\n",
        "min= torch.min(a)\n",
        "max,min"
      ],
      "metadata": {
        "colab": {
          "base_uri": "https://localhost:8080/"
        },
        "id": "9mv8ycMa6IST",
        "outputId": "07488e7b-f7b5-41d5-99a4-dd85a9e69c58"
      },
      "execution_count": null,
      "outputs": [
        {
          "output_type": "execute_result",
          "data": {
            "text/plain": [
              "(tensor(0.7006, device='cuda:0'), tensor(0.0290, device='cuda:0'))"
            ]
          },
          "metadata": {},
          "execution_count": 12
        }
      ]
    },
    {
      "cell_type": "code",
      "source": [
        "#9\n",
        "arg = torch.argmax(a)\n",
        "\n",
        "arg2 = torch.argmin(b)\n",
        "arg,arg2"
      ],
      "metadata": {
        "colab": {
          "base_uri": "https://localhost:8080/"
        },
        "id": "EEcV2-V-6ZKd",
        "outputId": "7ca65ac1-99e6-4daf-a21d-0a51b57719b5"
      },
      "execution_count": null,
      "outputs": [
        {
          "output_type": "execute_result",
          "data": {
            "text/plain": [
              "(tensor(5, device='cuda:0'), tensor(0, device='cuda:0'))"
            ]
          },
          "metadata": {},
          "execution_count": 13
        }
      ]
    },
    {
      "cell_type": "code",
      "source": [
        "\n",
        "#10\n",
        "torch.manual_seed(8)\n",
        "\n",
        "d = torch.rand(size=(1,1,1,10))\n",
        "\n",
        "#this will squeeze the tensor d above\n",
        "e = d.squeeze()\n",
        "d,e\n",
        "\n",
        "print(d,d.shape)\n",
        "print(e,e.shape)"
      ],
      "metadata": {
        "colab": {
          "base_uri": "https://localhost:8080/"
        },
        "id": "6OLlURkOK-ao",
        "outputId": "002a5b57-67c0-484c-fc4c-306b2eee9ce0"
      },
      "execution_count": null,
      "outputs": [
        {
          "output_type": "stream",
          "name": "stdout",
          "text": [
            "tensor([[[[0.5979, 0.8453, 0.9464, 0.2965, 0.5138, 0.6443, 0.8991, 0.0141,\n",
            "           0.5785, 0.1218]]]]) torch.Size([1, 1, 1, 10])\n",
            "tensor([0.5979, 0.8453, 0.9464, 0.2965, 0.5138, 0.6443, 0.8991, 0.0141, 0.5785,\n",
            "        0.1218]) torch.Size([10])\n"
          ]
        }
      ]
    },
    {
      "cell_type": "code",
      "source": [
        "import pandas as pd\n",
        "import torch\n",
        "import numpy as ny\n",
        "\n",
        "print(torch.__version__)"
      ],
      "metadata": {
        "colab": {
          "base_uri": "https://localhost:8080/"
        },
        "id": "bHVjCBApRmGy",
        "outputId": "b6af7737-3201-4e85-c4c5-66eda4d6c043"
      },
      "execution_count": null,
      "outputs": [
        {
          "output_type": "stream",
          "name": "stdout",
          "text": [
            "2.3.1+cu121\n"
          ]
        }
      ]
    },
    {
      "cell_type": "code",
      "source": [
        "scalar = torch.tensor(7)\n",
        "scalar.ndim"
      ],
      "metadata": {
        "colab": {
          "base_uri": "https://localhost:8080/"
        },
        "id": "LpL8VSvoSjql",
        "outputId": "64f47901-30d1-4e29-c174-afd43f94e910"
      },
      "execution_count": null,
      "outputs": [
        {
          "output_type": "execute_result",
          "data": {
            "text/plain": [
              "0"
            ]
          },
          "metadata": {},
          "execution_count": 16
        }
      ]
    },
    {
      "cell_type": "code",
      "source": [
        "scalar.item()"
      ],
      "metadata": {
        "colab": {
          "base_uri": "https://localhost:8080/"
        },
        "id": "C8NRKgtlTLQ7",
        "outputId": "0e77c843-be5c-4896-bdc6-f39defe8b5cf"
      },
      "execution_count": null,
      "outputs": [
        {
          "output_type": "execute_result",
          "data": {
            "text/plain": [
              "7"
            ]
          },
          "metadata": {},
          "execution_count": 17
        }
      ]
    },
    {
      "cell_type": "code",
      "source": [
        "matrix = torch.tensor([[1,2],[5,2]])\n",
        "matrix\n"
      ],
      "metadata": {
        "colab": {
          "base_uri": "https://localhost:8080/"
        },
        "id": "EewuA3MqTNsG",
        "outputId": "1d893605-7c42-475d-a97d-c20701fb12a2"
      },
      "execution_count": null,
      "outputs": [
        {
          "output_type": "execute_result",
          "data": {
            "text/plain": [
              "tensor([[1, 2],\n",
              "        [5, 2]])"
            ]
          },
          "metadata": {},
          "execution_count": 18
        }
      ]
    },
    {
      "cell_type": "code",
      "source": [
        "matrix.shape"
      ],
      "metadata": {
        "colab": {
          "base_uri": "https://localhost:8080/"
        },
        "id": "aHQyFKLUUplo",
        "outputId": "e68b4743-6ea1-415b-bca7-c466563a6edd"
      },
      "execution_count": null,
      "outputs": [
        {
          "output_type": "execute_result",
          "data": {
            "text/plain": [
              "torch.Size([2, 2])"
            ]
          },
          "metadata": {},
          "execution_count": 19
        }
      ]
    },
    {
      "cell_type": "code",
      "source": [
        "matrix.ndim"
      ],
      "metadata": {
        "colab": {
          "base_uri": "https://localhost:8080/"
        },
        "id": "NYGbYIy4Urmn",
        "outputId": "1a92016d-89ca-4161-9de0-35fa7303f20f"
      },
      "execution_count": null,
      "outputs": [
        {
          "output_type": "execute_result",
          "data": {
            "text/plain": [
              "2"
            ]
          },
          "metadata": {},
          "execution_count": 20
        }
      ]
    },
    {
      "cell_type": "code",
      "source": [
        "tensor2 = torch.tensor([[[[1,3,4],[3,5,6],[6,7,8],[5,7,8]]]])\n",
        "tensor2"
      ],
      "metadata": {
        "colab": {
          "base_uri": "https://localhost:8080/"
        },
        "id": "qCdhPbjqU7iW",
        "outputId": "332846a7-3e90-4110-8510-e6efd88ed7e2"
      },
      "execution_count": null,
      "outputs": [
        {
          "output_type": "execute_result",
          "data": {
            "text/plain": [
              "tensor([[[[1, 3, 4],\n",
              "          [3, 5, 6],\n",
              "          [6, 7, 8],\n",
              "          [5, 7, 8]]]])"
            ]
          },
          "metadata": {},
          "execution_count": 21
        }
      ]
    },
    {
      "cell_type": "code",
      "source": [
        "tensor2.shape"
      ],
      "metadata": {
        "colab": {
          "base_uri": "https://localhost:8080/"
        },
        "id": "ehelHY4bVVrt",
        "outputId": "5fc40e04-f8f5-41bb-d609-a1a31c6de16a"
      },
      "execution_count": null,
      "outputs": [
        {
          "output_type": "execute_result",
          "data": {
            "text/plain": [
              "torch.Size([1, 1, 4, 3])"
            ]
          },
          "metadata": {},
          "execution_count": 22
        }
      ]
    },
    {
      "cell_type": "code",
      "source": [
        "#random\n",
        "tr = torch.rand(1,8)\n",
        "tr"
      ],
      "metadata": {
        "colab": {
          "base_uri": "https://localhost:8080/"
        },
        "id": "A7MZduh6VbDz",
        "outputId": "6f62ebe8-8e38-48e4-e181-10274d6b609a"
      },
      "execution_count": null,
      "outputs": [
        {
          "output_type": "execute_result",
          "data": {
            "text/plain": [
              "tensor([[0.9181, 0.6805, 0.2000, 0.1121, 0.0019, 0.8928, 0.8047, 0.2547]])"
            ]
          },
          "metadata": {},
          "execution_count": 23
        }
      ]
    },
    {
      "cell_type": "code",
      "source": [
        "tr.ndim"
      ],
      "metadata": {
        "colab": {
          "base_uri": "https://localhost:8080/"
        },
        "id": "sucWQLsSVhY3",
        "outputId": "fa798b82-7ed5-4dfc-ec8e-8957abc760ef"
      },
      "execution_count": null,
      "outputs": [
        {
          "output_type": "execute_result",
          "data": {
            "text/plain": [
              "2"
            ]
          },
          "metadata": {},
          "execution_count": 24
        }
      ]
    },
    {
      "cell_type": "code",
      "source": [
        "zero = torch.zeros(size=(7,8))\n",
        "zero"
      ],
      "metadata": {
        "colab": {
          "base_uri": "https://localhost:8080/"
        },
        "id": "EEQ4M6SxpDnS",
        "outputId": "c80ed03c-ae0a-4352-c193-688105cf3aa4"
      },
      "execution_count": null,
      "outputs": [
        {
          "output_type": "execute_result",
          "data": {
            "text/plain": [
              "tensor([[0., 0., 0., 0., 0., 0., 0., 0.],\n",
              "        [0., 0., 0., 0., 0., 0., 0., 0.],\n",
              "        [0., 0., 0., 0., 0., 0., 0., 0.],\n",
              "        [0., 0., 0., 0., 0., 0., 0., 0.],\n",
              "        [0., 0., 0., 0., 0., 0., 0., 0.],\n",
              "        [0., 0., 0., 0., 0., 0., 0., 0.],\n",
              "        [0., 0., 0., 0., 0., 0., 0., 0.]])"
            ]
          },
          "metadata": {},
          "execution_count": 25
        }
      ]
    },
    {
      "cell_type": "code",
      "source": [
        "tt = torch.arange(0,4)\n",
        "tt"
      ],
      "metadata": {
        "colab": {
          "base_uri": "https://localhost:8080/"
        },
        "id": "eSGc7T2IpiAl",
        "outputId": "04eecb32-8cc0-452c-d67a-9fc1583e7ff6"
      },
      "execution_count": null,
      "outputs": [
        {
          "output_type": "execute_result",
          "data": {
            "text/plain": [
              "tensor([0, 1, 2, 3])"
            ]
          },
          "metadata": {},
          "execution_count": 26
        }
      ]
    },
    {
      "cell_type": "code",
      "source": [
        "#reshape\n",
        "rt = torch.arange(1,10)\n",
        "rt"
      ],
      "metadata": {
        "colab": {
          "base_uri": "https://localhost:8080/"
        },
        "id": "3v67hAO0pxFE",
        "outputId": "e40bc92b-f2f9-4faa-a3ce-91567ae13ec4"
      },
      "execution_count": null,
      "outputs": [
        {
          "output_type": "execute_result",
          "data": {
            "text/plain": [
              "tensor([1, 2, 3, 4, 5, 6, 7, 8, 9])"
            ]
          },
          "metadata": {},
          "execution_count": 27
        }
      ]
    },
    {
      "cell_type": "code",
      "source": [
        "rs = rt.reshape(1,9)\n",
        "rs, rs.shape"
      ],
      "metadata": {
        "colab": {
          "base_uri": "https://localhost:8080/"
        },
        "id": "FicSzzQTtQ5O",
        "outputId": "be19eebd-feed-4cbe-ba10-283d91dcad3a"
      },
      "execution_count": null,
      "outputs": [
        {
          "output_type": "execute_result",
          "data": {
            "text/plain": [
              "(tensor([[1, 2, 3, 4, 5, 6, 7, 8, 9]]), torch.Size([1, 9]))"
            ]
          },
          "metadata": {},
          "execution_count": 28
        }
      ]
    },
    {
      "cell_type": "markdown",
      "source": [],
      "metadata": {
        "id": "YhrVWBIrj4gD"
      }
    },
    {
      "cell_type": "code",
      "source": [
        "import torch\n",
        "from torch import nn\n",
        "import matplotlib.pyplot as plt\n",
        "\n",
        "torch.__version__"
      ],
      "metadata": {
        "colab": {
          "base_uri": "https://localhost:8080/",
          "height": 36
        },
        "id": "hVax5bbpj37D",
        "outputId": "23bd400c-099c-4d66-f1a3-c52bdf86fe83"
      },
      "execution_count": null,
      "outputs": [
        {
          "output_type": "execute_result",
          "data": {
            "text/plain": [
              "'2.3.1+cu121'"
            ],
            "application/vnd.google.colaboratory.intrinsic+json": {
              "type": "string"
            }
          },
          "metadata": {},
          "execution_count": 29
        }
      ]
    },
    {
      "cell_type": "code",
      "source": [
        "weight = 0.7\n",
        "bias = 0.4\n",
        "\n",
        "start = 0\n",
        "end = 1\n",
        "step = 0.04\n",
        "X = torch.arange(start,end,step).unsqueeze(dim=1)\n",
        "\n",
        "y = weight * X + bias\n",
        "\n",
        "X[:10],y[:10]\n"
      ],
      "metadata": {
        "colab": {
          "base_uri": "https://localhost:8080/"
        },
        "id": "tNeUI7bFkiZX",
        "outputId": "cc1746cd-d83c-4dbd-d521-2a2748c99402"
      },
      "execution_count": null,
      "outputs": [
        {
          "output_type": "execute_result",
          "data": {
            "text/plain": [
              "(tensor([[0.0000],\n",
              "         [0.0400],\n",
              "         [0.0800],\n",
              "         [0.1200],\n",
              "         [0.1600],\n",
              "         [0.2000],\n",
              "         [0.2400],\n",
              "         [0.2800],\n",
              "         [0.3200],\n",
              "         [0.3600]]),\n",
              " tensor([[0.4000],\n",
              "         [0.4280],\n",
              "         [0.4560],\n",
              "         [0.4840],\n",
              "         [0.5120],\n",
              "         [0.5400],\n",
              "         [0.5680],\n",
              "         [0.5960],\n",
              "         [0.6240],\n",
              "         [0.6520]]))"
            ]
          },
          "metadata": {},
          "execution_count": 120
        }
      ]
    },
    {
      "cell_type": "code",
      "source": [
        "len(X),len(y)"
      ],
      "metadata": {
        "colab": {
          "base_uri": "https://localhost:8080/"
        },
        "id": "sSxgz4a18uXe",
        "outputId": "5d5f2a25-6f26-4ec0-b815-806bfa69bc4d"
      },
      "execution_count": null,
      "outputs": [
        {
          "output_type": "execute_result",
          "data": {
            "text/plain": [
              "(25, 25)"
            ]
          },
          "metadata": {},
          "execution_count": 121
        }
      ]
    },
    {
      "cell_type": "code",
      "source": [
        "train_sp = int(0.7 * len(X))\n",
        "X_train , y_train = X[:train_sp],y[:train_sp]\n",
        "X_test,y_test = X[train_sp:],y[train_sp:]\n",
        "\n",
        "len(X_train),len(y_train),len(X_test),len(y_test)"
      ],
      "metadata": {
        "colab": {
          "base_uri": "https://localhost:8080/"
        },
        "id": "GVMO1EQU9fcu",
        "outputId": "ae794456-3388-4e7a-96d3-54232d263d78"
      },
      "execution_count": null,
      "outputs": [
        {
          "output_type": "execute_result",
          "data": {
            "text/plain": [
              "(17, 17, 8, 8)"
            ]
          },
          "metadata": {},
          "execution_count": 122
        }
      ]
    },
    {
      "cell_type": "code",
      "source": [
        "def plot_prediction(traindata = X_train,\n",
        "                    trainlables = y_train,\n",
        "                    Xtestdata = X_test,\n",
        "                    testlables = y_test,\n",
        "                    preditions=None):\n",
        "  plt.figure(figsize=(10,8))\n",
        "\n",
        "  plt.scatter(traindata, trainlables, c=\"g\", s=4, label=\"Traning data\")\n",
        "  plt.scatter(Xtestdata, testlables,c=\"b\", s=4, label=\"Testing data\")\n",
        "\n",
        "  if preditions is not None:\n",
        "    plt.scatter(Xtestdata,preditions, c=\"r\",s=4,label=\"predition\")\n",
        "\n",
        "  plt.legend(prop={\"size\":14})\n"
      ],
      "metadata": {
        "id": "wwcVWjW5NLXG"
      },
      "execution_count": null,
      "outputs": []
    },
    {
      "cell_type": "code",
      "source": [
        "plot_prediction(X_train,y_train,X_test,y_test)"
      ],
      "metadata": {
        "colab": {
          "base_uri": "https://localhost:8080/",
          "height": 677
        },
        "id": "_RvpXiXqZBLa",
        "outputId": "915fa242-554c-412e-fa4b-d3eb2227beff"
      },
      "execution_count": null,
      "outputs": [
        {
          "output_type": "display_data",
          "data": {
            "text/plain": [
              "<Figure size 1000x800 with 1 Axes>"
            ],
            "image/png": "[encoded data removed]"
          },
          "metadata": {}
        }
      ]
    },
    {
      "cell_type": "code",
      "source": [
        "##6.2 Building a pytorch linear model using nn.module\n",
        "\n",
        "class LinearRegressionModel2(nn.Module):\n",
        "  def __init__(self):\n",
        "    super().__init__()"
      ],
      "metadata": {
        "id": "5Cmba6Z0IbrU"
      },
      "execution_count": null,
      "outputs": []
    },
    {
      "cell_type": "code",
      "source": [],
      "metadata": {
        "id": "hxJ7uSh5qYkX"
      },
      "execution_count": null,
      "outputs": []
    }
  ]
}