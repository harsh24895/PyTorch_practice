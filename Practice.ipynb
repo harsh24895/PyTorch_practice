{
  "nbformat": 4,
  "nbformat_minor": 0,
  "metadata": {
    "colab": {
      "provenance": [],
      "gpuType": "T4",
      "authorship_tag": "ABX9TyODnH7u77wP5urnADOLFN/m"
    },
    "kernelspec": {
      "name": "python3",
      "display_name": "Python 3"
    },
    "language_info": {
      "name": "python"
    },
    "accelerator": "GPU"
  },
  "cells": [
    {
      "cell_type": "code",
      "execution_count": 1,
      "metadata": {
        "colab": {
          "base_uri": "https://localhost:8080/"
        },
        "id": "eiBRHBQg9L_r",
        "outputId": "e6ece45a-779a-44ae-b741-e8cb707b8078"
      },
      "outputs": [
        {
          "output_type": "execute_result",
          "data": {
            "text/plain": [
              "tensor([[ 1.2414e+28,  1.2415e+28,  6.7411e+22,  1.8037e+28,  2.7553e+12,\n",
              "          4.2964e+24,  2.7494e+20],\n",
              "        [ 5.4964e+31,  6.7111e+22,  4.5779e+30,  5.2851e-11,  1.1704e-19,\n",
              "          1.3563e-19,  1.5637e-01],\n",
              "        [ 1.1710e-19,  1.3563e-19,  1.5637e-01,  1.3573e-19,  8.6804e-18,\n",
              "          3.9604e-11,  7.7135e+31],\n",
              "        [ 1.9519e-19,  1.9432e-19,  4.3988e+21,  1.8524e+28,  8.3865e-33,\n",
              "          1.3563e-19,  1.5104e-39],\n",
              "        [ 4.7726e-29,  2.5353e+30,  2.2421e-44,  5.8995e-42,  1.6021e-39,\n",
              "          1.8643e-31, -3.8686e+25],\n",
              "        [ 1.0141e+31,  2.8026e-45,  1.8648e-31,  2.8422e-14,  1.6939e-39,\n",
              "          4.5741e-14,  2.2449e-39],\n",
              "        [ 1.2416e-37,  5.3431e-28,  4.8233e-42,  4.2736e+31,  1.8061e+28,\n",
              "          2.2471e-40,  3.2801e-34]])"
            ]
          },
          "metadata": {},
          "execution_count": 1
        }
      ],
      "source": [
        "import torch\n",
        "\n",
        "torchSeven = torch.Tensor(7,7)\n",
        "torchSeven"
      ]
    },
    {
      "cell_type": "code",
      "source": [
        "tensor2 = torch.rand(1,7)\n",
        "tensor2\n",
        "tensor2.shape"
      ],
      "metadata": {
        "colab": {
          "base_uri": "https://localhost:8080/"
        },
        "id": "NgiLIxR5BRS5",
        "outputId": "947a97fd-b0be-4e73-f3f4-4a852cf86403"
      },
      "execution_count": 2,
      "outputs": [
        {
          "output_type": "execute_result",
          "data": {
            "text/plain": [
              "torch.Size([1, 7])"
            ]
          },
          "metadata": {},
          "execution_count": 2
        }
      ]
    },
    {
      "cell_type": "code",
      "source": [
        "tensor2.T\n",
        "tensor2.T.shape"
      ],
      "metadata": {
        "colab": {
          "base_uri": "https://localhost:8080/"
        },
        "id": "J6ZbIIBE_iuF",
        "outputId": "22cf3300-3d15-46c2-fec5-c2e56b10439e"
      },
      "execution_count": 3,
      "outputs": [
        {
          "output_type": "execute_result",
          "data": {
            "text/plain": [
              "torch.Size([7, 1])"
            ]
          },
          "metadata": {},
          "execution_count": 3
        }
      ]
    },
    {
      "cell_type": "code",
      "source": [
        "\n",
        "torch.mm(torchSeven,tensor2.T)"
      ],
      "metadata": {
        "colab": {
          "base_uri": "https://localhost:8080/"
        },
        "id": "9u_ilhb7DFRZ",
        "outputId": "def020df-218b-4e00-ddbb-1e9d9962cd22"
      },
      "execution_count": 4,
      "outputs": [
        {
          "output_type": "execute_result",
          "data": {
            "text/plain": [
              "tensor([[2.6995e+28],\n",
              "        [5.4615e+31],\n",
              "        [6.3423e+31],\n",
              "        [3.1901e+27],\n",
              "        [2.3783e+30],\n",
              "        [1.0000e+31],\n",
              "        [7.3759e+30]])"
            ]
          },
          "metadata": {},
          "execution_count": 4
        }
      ]
    },
    {
      "cell_type": "code",
      "source": [
        "test = torch.zeros(size=(1,7))\n",
        "test\n"
      ],
      "metadata": {
        "colab": {
          "base_uri": "https://localhost:8080/"
        },
        "id": "rgQC8ldoDxUH",
        "outputId": "5cb4660a-916f-4600-8260-5416c3dfa3ae"
      },
      "execution_count": 5,
      "outputs": [
        {
          "output_type": "execute_result",
          "data": {
            "text/plain": [
              "tensor([[0., 0., 0., 0., 0., 0., 0.]])"
            ]
          },
          "metadata": {},
          "execution_count": 5
        }
      ]
    },
    {
      "cell_type": "code",
      "source": [
        "test2 = torch.zeros(size=(7,7))\n",
        "test2"
      ],
      "metadata": {
        "colab": {
          "base_uri": "https://localhost:8080/"
        },
        "id": "PkCLFcNqD3JP",
        "outputId": "14bed36e-4684-4bcb-d0ae-9d92a40c0e0f"
      },
      "execution_count": 6,
      "outputs": [
        {
          "output_type": "execute_result",
          "data": {
            "text/plain": [
              "tensor([[0., 0., 0., 0., 0., 0., 0.],\n",
              "        [0., 0., 0., 0., 0., 0., 0.],\n",
              "        [0., 0., 0., 0., 0., 0., 0.],\n",
              "        [0., 0., 0., 0., 0., 0., 0.],\n",
              "        [0., 0., 0., 0., 0., 0., 0.],\n",
              "        [0., 0., 0., 0., 0., 0., 0.],\n",
              "        [0., 0., 0., 0., 0., 0., 0.]])"
            ]
          },
          "metadata": {},
          "execution_count": 6
        }
      ]
    },
    {
      "cell_type": "code",
      "source": [
        "#4\n",
        "test.T\n",
        "test.T.shape\n",
        "\n",
        "#here we transpose all zeros to ones\n",
        "torch.mm(test2,test.T)"
      ],
      "metadata": {
        "colab": {
          "base_uri": "https://localhost:8080/"
        },
        "id": "oJJCKPbVtGOc",
        "outputId": "5e48162a-2dca-4a8c-c6cf-dfe2d55087a9"
      },
      "execution_count": 7,
      "outputs": [
        {
          "output_type": "execute_result",
          "data": {
            "text/plain": [
              "tensor([[0.],\n",
              "        [0.],\n",
              "        [0.],\n",
              "        [0.],\n",
              "        [0.],\n",
              "        [0.],\n",
              "        [0.]])"
            ]
          },
          "metadata": {},
          "execution_count": 7
        }
      ]
    },
    {
      "cell_type": "code",
      "source": [
        "#5\n",
        "torch.cuda.manual_seed(1234)"
      ],
      "metadata": {
        "id": "auLT9vu1zBz9"
      },
      "execution_count": 8,
      "outputs": []
    },
    {
      "cell_type": "code",
      "source": [
        "#6\n",
        "torch.manual_seed(1234)\n",
        "#check for access to GPU\n",
        "device = \"cuda\" if torch.cuda.is_available() else\"cpu\"\n",
        "print(f\"Device:{device}\")\n",
        "\n",
        "\n",
        "a = torch.rand(size=(2,3)).to(device)\n",
        "b = torch.rand(size=(2,3)).to(device)\n",
        "a,b"
      ],
      "metadata": {
        "colab": {
          "base_uri": "https://localhost:8080/"
        },
        "id": "nqvXXlZj0PXv",
        "outputId": "05050e3e-7fcb-498e-e61e-48df1d936333"
      },
      "execution_count": 9,
      "outputs": [
        {
          "output_type": "stream",
          "name": "stdout",
          "text": [
            "Device:cuda\n"
          ]
        },
        {
          "output_type": "execute_result",
          "data": {
            "text/plain": [
              "(tensor([[0.0290, 0.4019, 0.2598],\n",
              "         [0.3666, 0.0583, 0.7006]], device='cuda:0'),\n",
              " tensor([[0.0518, 0.4681, 0.6738],\n",
              "         [0.3315, 0.7837, 0.5631]], device='cuda:0'))"
            ]
          },
          "metadata": {},
          "execution_count": 9
        }
      ]
    },
    {
      "cell_type": "code",
      "source": [
        "#7\n",
        "#need to transpos the matrix\n",
        "b.T\n",
        "b.T.shape\n"
      ],
      "metadata": {
        "colab": {
          "base_uri": "https://localhost:8080/"
        },
        "id": "0NVwgCyY5AiM",
        "outputId": "2d15ff7b-2689-40df-f5ad-0a0232fdac56"
      },
      "execution_count": 10,
      "outputs": [
        {
          "output_type": "execute_result",
          "data": {
            "text/plain": [
              "torch.Size([3, 2])"
            ]
          },
          "metadata": {},
          "execution_count": 10
        }
      ]
    },
    {
      "cell_type": "code",
      "source": [
        "#7 continue\n",
        "torch.mm(a,b.T)"
      ],
      "metadata": {
        "colab": {
          "base_uri": "https://localhost:8080/"
        },
        "id": "CBCOntFh5vWW",
        "outputId": "3d7dcee3-ea58-486c-ebcd-2652de6fed4a"
      },
      "execution_count": 11,
      "outputs": [
        {
          "output_type": "execute_result",
          "data": {
            "text/plain": [
              "tensor([[0.3647, 0.4709],\n",
              "        [0.5184, 0.5617]], device='cuda:0')"
            ]
          },
          "metadata": {},
          "execution_count": 11
        }
      ]
    },
    {
      "cell_type": "code",
      "source": [
        "#8\n",
        "max = torch.max(a)\n",
        "max\n",
        "min= torch.min(a)\n",
        "max,min"
      ],
      "metadata": {
        "colab": {
          "base_uri": "https://localhost:8080/"
        },
        "id": "9mv8ycMa6IST",
        "outputId": "ade9bca0-ff45-45f3-a46d-9f4fbb9da7eb"
      },
      "execution_count": 12,
      "outputs": [
        {
          "output_type": "execute_result",
          "data": {
            "text/plain": [
              "(tensor(0.7006, device='cuda:0'), tensor(0.0290, device='cuda:0'))"
            ]
          },
          "metadata": {},
          "execution_count": 12
        }
      ]
    },
    {
      "cell_type": "code",
      "source": [
        "#9\n",
        "arg = torch.argmax(a)\n",
        "\n",
        "arg2 = torch.argmin(b)\n",
        "arg,arg2"
      ],
      "metadata": {
        "colab": {
          "base_uri": "https://localhost:8080/"
        },
        "id": "EEcV2-V-6ZKd",
        "outputId": "ff66580c-a7a3-42ef-b793-9153fb15134a"
      },
      "execution_count": 13,
      "outputs": [
        {
          "output_type": "execute_result",
          "data": {
            "text/plain": [
              "(tensor(5, device='cuda:0'), tensor(0, device='cuda:0'))"
            ]
          },
          "metadata": {},
          "execution_count": 13
        }
      ]
    },
    {
      "cell_type": "code",
      "source": [
        "\n",
        "#10\n",
        "torch.manual_seed(8)\n",
        "\n",
        "d = torch.rand(size=(1,1,1,10))\n",
        "\n",
        "#this will squeeze the tensor d above\n",
        "e = d.squeeze()\n",
        "d,e\n",
        "\n",
        "print(d,d.shape)\n",
        "print(e,e.shape)"
      ],
      "metadata": {
        "colab": {
          "base_uri": "https://localhost:8080/"
        },
        "id": "6OLlURkOK-ao",
        "outputId": "6fea3f48-8766-4221-c126-9f21314e305c"
      },
      "execution_count": 14,
      "outputs": [
        {
          "output_type": "stream",
          "name": "stdout",
          "text": [
            "tensor([[[[0.5979, 0.8453, 0.9464, 0.2965, 0.5138, 0.6443, 0.8991, 0.0141,\n",
            "           0.5785, 0.1218]]]]) torch.Size([1, 1, 1, 10])\n",
            "tensor([0.5979, 0.8453, 0.9464, 0.2965, 0.5138, 0.6443, 0.8991, 0.0141, 0.5785,\n",
            "        0.1218]) torch.Size([10])\n"
          ]
        }
      ]
    },
    {
      "cell_type": "code",
      "source": [
        "import pandas as pd\n",
        "import torch\n",
        "import numpy as ny\n",
        "\n",
        "print(torch.__version__)"
      ],
      "metadata": {
        "colab": {
          "base_uri": "https://localhost:8080/"
        },
        "id": "bHVjCBApRmGy",
        "outputId": "b21c0122-081e-4754-fc0c-b7c287f8ea03"
      },
      "execution_count": 15,
      "outputs": [
        {
          "output_type": "stream",
          "name": "stdout",
          "text": [
            "2.4.0+cu121\n"
          ]
        }
      ]
    },
    {
      "cell_type": "code",
      "source": [
        "scalar = torch.tensor(7)\n",
        "scalar.ndim"
      ],
      "metadata": {
        "colab": {
          "base_uri": "https://localhost:8080/"
        },
        "id": "LpL8VSvoSjql",
        "outputId": "d0e5efb1-c321-4813-cd30-1ee089b4f135"
      },
      "execution_count": 16,
      "outputs": [
        {
          "output_type": "execute_result",
          "data": {
            "text/plain": [
              "0"
            ]
          },
          "metadata": {},
          "execution_count": 16
        }
      ]
    },
    {
      "cell_type": "code",
      "source": [
        "scalar.item()"
      ],
      "metadata": {
        "colab": {
          "base_uri": "https://localhost:8080/"
        },
        "id": "C8NRKgtlTLQ7",
        "outputId": "565edf24-4111-4d8a-a581-b32cfb85b964"
      },
      "execution_count": 17,
      "outputs": [
        {
          "output_type": "execute_result",
          "data": {
            "text/plain": [
              "7"
            ]
          },
          "metadata": {},
          "execution_count": 17
        }
      ]
    },
    {
      "cell_type": "code",
      "source": [
        "matrix = torch.tensor([[1,2],[5,2]])\n",
        "matrix\n"
      ],
      "metadata": {
        "colab": {
          "base_uri": "https://localhost:8080/"
        },
        "id": "EewuA3MqTNsG",
        "outputId": "87ebc95f-e0a9-4eae-d4a5-2cdb0599876f"
      },
      "execution_count": 18,
      "outputs": [
        {
          "output_type": "execute_result",
          "data": {
            "text/plain": [
              "tensor([[1, 2],\n",
              "        [5, 2]])"
            ]
          },
          "metadata": {},
          "execution_count": 18
        }
      ]
    },
    {
      "cell_type": "code",
      "source": [
        "matrix.shape"
      ],
      "metadata": {
        "colab": {
          "base_uri": "https://localhost:8080/"
        },
        "id": "aHQyFKLUUplo",
        "outputId": "ff38253d-f9cb-44ce-be5b-5715446e131a"
      },
      "execution_count": 19,
      "outputs": [
        {
          "output_type": "execute_result",
          "data": {
            "text/plain": [
              "torch.Size([2, 2])"
            ]
          },
          "metadata": {},
          "execution_count": 19
        }
      ]
    },
    {
      "cell_type": "code",
      "source": [
        "matrix.ndim"
      ],
      "metadata": {
        "colab": {
          "base_uri": "https://localhost:8080/"
        },
        "id": "NYGbYIy4Urmn",
        "outputId": "a2bf0035-a174-4c96-f843-83b2a4d52d06"
      },
      "execution_count": 20,
      "outputs": [
        {
          "output_type": "execute_result",
          "data": {
            "text/plain": [
              "2"
            ]
          },
          "metadata": {},
          "execution_count": 20
        }
      ]
    },
    {
      "cell_type": "code",
      "source": [
        "tensor2 = torch.tensor([[[[1,3,4],[3,5,6],[6,7,8],[5,7,8]]]])\n",
        "tensor2"
      ],
      "metadata": {
        "colab": {
          "base_uri": "https://localhost:8080/"
        },
        "id": "qCdhPbjqU7iW",
        "outputId": "484b28d3-87f3-4b98-8e18-102018924e61"
      },
      "execution_count": 21,
      "outputs": [
        {
          "output_type": "execute_result",
          "data": {
            "text/plain": [
              "tensor([[[[1, 3, 4],\n",
              "          [3, 5, 6],\n",
              "          [6, 7, 8],\n",
              "          [5, 7, 8]]]])"
            ]
          },
          "metadata": {},
          "execution_count": 21
        }
      ]
    },
    {
      "cell_type": "code",
      "source": [
        "tensor2.shape"
      ],
      "metadata": {
        "colab": {
          "base_uri": "https://localhost:8080/"
        },
        "id": "ehelHY4bVVrt",
        "outputId": "42135db8-e13a-44c9-f14a-3d56f76b2889"
      },
      "execution_count": 22,
      "outputs": [
        {
          "output_type": "execute_result",
          "data": {
            "text/plain": [
              "torch.Size([1, 1, 4, 3])"
            ]
          },
          "metadata": {},
          "execution_count": 22
        }
      ]
    },
    {
      "cell_type": "code",
      "source": [
        "#random\n",
        "tr = torch.rand(1,8)\n",
        "tr"
      ],
      "metadata": {
        "colab": {
          "base_uri": "https://localhost:8080/"
        },
        "id": "A7MZduh6VbDz",
        "outputId": "bcde7065-b867-4797-90c6-870699b2973c"
      },
      "execution_count": 23,
      "outputs": [
        {
          "output_type": "execute_result",
          "data": {
            "text/plain": [
              "tensor([[0.9181, 0.6805, 0.2000, 0.1121, 0.0019, 0.8928, 0.8047, 0.2547]])"
            ]
          },
          "metadata": {},
          "execution_count": 23
        }
      ]
    },
    {
      "cell_type": "code",
      "source": [
        "tr.ndim"
      ],
      "metadata": {
        "colab": {
          "base_uri": "https://localhost:8080/"
        },
        "id": "sucWQLsSVhY3",
        "outputId": "9ab706a3-cc1d-406b-8c09-e02da46cc872"
      },
      "execution_count": 24,
      "outputs": [
        {
          "output_type": "execute_result",
          "data": {
            "text/plain": [
              "2"
            ]
          },
          "metadata": {},
          "execution_count": 24
        }
      ]
    },
    {
      "cell_type": "code",
      "source": [
        "zero = torch.zeros(size=(7,8))\n",
        "zero"
      ],
      "metadata": {
        "colab": {
          "base_uri": "https://localhost:8080/"
        },
        "id": "EEQ4M6SxpDnS",
        "outputId": "034bd2f0-41ac-40b6-d21d-9630863c5c3f"
      },
      "execution_count": 25,
      "outputs": [
        {
          "output_type": "execute_result",
          "data": {
            "text/plain": [
              "tensor([[0., 0., 0., 0., 0., 0., 0., 0.],\n",
              "        [0., 0., 0., 0., 0., 0., 0., 0.],\n",
              "        [0., 0., 0., 0., 0., 0., 0., 0.],\n",
              "        [0., 0., 0., 0., 0., 0., 0., 0.],\n",
              "        [0., 0., 0., 0., 0., 0., 0., 0.],\n",
              "        [0., 0., 0., 0., 0., 0., 0., 0.],\n",
              "        [0., 0., 0., 0., 0., 0., 0., 0.]])"
            ]
          },
          "metadata": {},
          "execution_count": 25
        }
      ]
    },
    {
      "cell_type": "code",
      "source": [
        "tt = torch.arange(0,4)\n",
        "tt"
      ],
      "metadata": {
        "colab": {
          "base_uri": "https://localhost:8080/"
        },
        "id": "eSGc7T2IpiAl",
        "outputId": "003ae3c6-6e2c-4390-c8c0-689b940e3d27"
      },
      "execution_count": 26,
      "outputs": [
        {
          "output_type": "execute_result",
          "data": {
            "text/plain": [
              "tensor([0, 1, 2, 3])"
            ]
          },
          "metadata": {},
          "execution_count": 26
        }
      ]
    },
    {
      "cell_type": "code",
      "source": [
        "#reshape\n",
        "rt = torch.arange(1,10)\n",
        "rt"
      ],
      "metadata": {
        "colab": {
          "base_uri": "https://localhost:8080/"
        },
        "id": "3v67hAO0pxFE",
        "outputId": "550928f1-dfe8-49e7-ce40-b99b6ee4db96"
      },
      "execution_count": 27,
      "outputs": [
        {
          "output_type": "execute_result",
          "data": {
            "text/plain": [
              "tensor([1, 2, 3, 4, 5, 6, 7, 8, 9])"
            ]
          },
          "metadata": {},
          "execution_count": 27
        }
      ]
    },
    {
      "cell_type": "code",
      "source": [
        "rs = rt.reshape(1,9)\n",
        "rs, rs.shape"
      ],
      "metadata": {
        "colab": {
          "base_uri": "https://localhost:8080/"
        },
        "id": "FicSzzQTtQ5O",
        "outputId": "b3137d72-0723-4e4c-9cd1-2d523a7f123d"
      },
      "execution_count": 28,
      "outputs": [
        {
          "output_type": "execute_result",
          "data": {
            "text/plain": [
              "(tensor([[1, 2, 3, 4, 5, 6, 7, 8, 9]]), torch.Size([1, 9]))"
            ]
          },
          "metadata": {},
          "execution_count": 28
        }
      ]
    },
    {
      "cell_type": "markdown",
      "source": [],
      "metadata": {
        "id": "YhrVWBIrj4gD"
      }
    },
    {
      "cell_type": "code",
      "source": [
        "import torch\n",
        "from torch import nn\n",
        "import matplotlib.pyplot as plt\n",
        "\n",
        "torch.__version__"
      ],
      "metadata": {
        "colab": {
          "base_uri": "https://localhost:8080/",
          "height": 36
        },
        "id": "hVax5bbpj37D",
        "outputId": "36e4e39b-558a-4356-c2e8-19c007851faf"
      },
      "execution_count": 29,
      "outputs": [
        {
          "output_type": "execute_result",
          "data": {
            "text/plain": [
              "'2.4.0+cu121'"
            ],
            "application/vnd.google.colaboratory.intrinsic+json": {
              "type": "string"
            }
          },
          "metadata": {},
          "execution_count": 29
        }
      ]
    },
    {
      "cell_type": "code",
      "source": [
        "weight = 0.7\n",
        "bias = 0.4\n",
        "\n",
        "start = 0\n",
        "end = 1\n",
        "step = 0.04\n",
        "X = torch.arange(start,end,step).unsqueeze(dim=1)\n",
        "\n",
        "y = weight * X + bias\n",
        "\n",
        "X[:10],y[:10]\n"
      ],
      "metadata": {
        "colab": {
          "base_uri": "https://localhost:8080/"
        },
        "id": "tNeUI7bFkiZX",
        "outputId": "a4ea00a0-c01b-4ede-98fb-03b2ad2a57cf"
      },
      "execution_count": 30,
      "outputs": [
        {
          "output_type": "execute_result",
          "data": {
            "text/plain": [
              "(tensor([[0.0000],\n",
              "         [0.0400],\n",
              "         [0.0800],\n",
              "         [0.1200],\n",
              "         [0.1600],\n",
              "         [0.2000],\n",
              "         [0.2400],\n",
              "         [0.2800],\n",
              "         [0.3200],\n",
              "         [0.3600]]),\n",
              " tensor([[0.4000],\n",
              "         [0.4280],\n",
              "         [0.4560],\n",
              "         [0.4840],\n",
              "         [0.5120],\n",
              "         [0.5400],\n",
              "         [0.5680],\n",
              "         [0.5960],\n",
              "         [0.6240],\n",
              "         [0.6520]]))"
            ]
          },
          "metadata": {},
          "execution_count": 30
        }
      ]
    },
    {
      "cell_type": "code",
      "source": [
        "len(X),len(y)"
      ],
      "metadata": {
        "colab": {
          "base_uri": "https://localhost:8080/"
        },
        "id": "sSxgz4a18uXe",
        "outputId": "f9399d22-37f2-496d-c5f3-98e4bd727034"
      },
      "execution_count": 31,
      "outputs": [
        {
          "output_type": "execute_result",
          "data": {
            "text/plain": [
              "(25, 25)"
            ]
          },
          "metadata": {},
          "execution_count": 31
        }
      ]
    },
    {
      "cell_type": "code",
      "source": [
        "train_sp = int(0.7 * len(X))\n",
        "X_train , y_train = X[:train_sp],y[:train_sp]\n",
        "X_test,y_test = X[train_sp:],y[train_sp:]\n",
        "\n",
        "len(X_train),len(y_train),len(X_test),len(y_test)"
      ],
      "metadata": {
        "colab": {
          "base_uri": "https://localhost:8080/"
        },
        "id": "GVMO1EQU9fcu",
        "outputId": "5d4effbb-e30b-4a74-a27f-676878096e2c"
      },
      "execution_count": 32,
      "outputs": [
        {
          "output_type": "execute_result",
          "data": {
            "text/plain": [
              "(17, 17, 8, 8)"
            ]
          },
          "metadata": {},
          "execution_count": 32
        }
      ]
    },
    {
      "cell_type": "code",
      "source": [
        "def plot_prediction(traindata = X_train,\n",
        "                    trainlables = y_train,\n",
        "                    Xtestdata = X_test,\n",
        "                    testlables = y_test,\n",
        "                    preditions=None):\n",
        "  plt.figure(figsize=(10,8))\n",
        "\n",
        "  plt.scatter(traindata, trainlables, c=\"g\", s=4, label=\"Traning data\")\n",
        "  plt.scatter(Xtestdata, testlables,c=\"b\", s=4, label=\"Testing data\")\n",
        "\n",
        "  if preditions is not None:\n",
        "    plt.scatter(Xtestdata,preditions, c=\"r\",s=4,label=\"predition\")\n",
        "\n",
        "  plt.legend(prop={\"size\":14})\n"
      ],
      "metadata": {
        "id": "wwcVWjW5NLXG"
      },
      "execution_count": 33,
      "outputs": []
    },
    {
      "cell_type": "code",
      "source": [
        "plot_prediction(X_train,y_train,X_test,y_test)"
      ],
      "metadata": {
        "colab": {
          "base_uri": "https://localhost:8080/",
          "height": 677
        },
        "id": "_RvpXiXqZBLa",
        "outputId": "01847a39-b415-45ef-be5d-5fde0050ae25"
      },
      "execution_count": 34,
      "outputs": [
        {
          "output_type": "display_data",
          "data": {
            "text/plain": [
              "<Figure size 1000x800 with 1 Axes>"
            ],
            "image/png": "[encoded data removed]"
          },
          "metadata": {}
        }
      ]
    },
    {
      "cell_type": "code",
      "source": [
        "##6.2 Building a pytorch linear model using nn.module\n",
        "class LinearReg2(nn.Module):\n",
        "    def __init__(self):\n",
        "      super().__init__()\n",
        "      #Use the nn.Linear() for creating model parameters\n",
        "      self.linear_layer = nn.Linear(in_features=1,out_features=1) # in here we are using the one feature of X_train it would take one outpout from 10 and one feature of y_train one outpout from 10\n",
        "      # and here we are usually using the layers // this Linear layer also called linear transform, probing layer, fully connected layer, dense layer\n",
        "\n",
        "    def forward(self, x: torch.Tensor) -> torch.Tensor: #x is s torch.tensor and passing through the torch.tensor\n",
        "      return self.linear_layer(x)\n",
        "\n",
        "  #set the manual seed\n",
        "torch.manual_seed(40)\n",
        "model1 = LinearReg2()\n",
        "model1, model1.state_dict()\n"
      ],
      "metadata": {
        "id": "hxJ7uSh5qYkX",
        "colab": {
          "base_uri": "https://localhost:8080/"
        },
        "outputId": "b98d939d-fa4d-4d00-ac49-aef0dcb909bd"
      },
      "execution_count": 35,
      "outputs": [
        {
          "output_type": "execute_result",
          "data": {
            "text/plain": [
              "(LinearReg2(\n",
              "   (linear_layer): Linear(in_features=1, out_features=1, bias=True)\n",
              " ),\n",
              " OrderedDict([('linear_layer.weight', tensor([[-0.2642]])),\n",
              "              ('linear_layer.bias', tensor([0.7322]))]))"
            ]
          },
          "metadata": {},
          "execution_count": 35
        }
      ]
    },
    {
      "cell_type": "code",
      "source": [
        "#check the model current device\n",
        "next(model1.parameters()).device"
      ],
      "metadata": {
        "id": "4mf3L1x-Zt7W",
        "colab": {
          "base_uri": "https://localhost:8080/"
        },
        "outputId": "da8680bf-5858-42ac-fcc7-4b79c09f3488"
      },
      "execution_count": 36,
      "outputs": [
        {
          "output_type": "execute_result",
          "data": {
            "text/plain": [
              "device(type='cpu')"
            ]
          },
          "metadata": {},
          "execution_count": 36
        }
      ]
    },
    {
      "cell_type": "code",
      "source": [
        "#set the model to use the target device\n",
        "model1.to(device) #here \"to\" will send to the GPU memory instead of CPU\n",
        "next(model1.parameters()).device #if cuda is not available the targer device would be CPU"
      ],
      "metadata": {
        "colab": {
          "base_uri": "https://localhost:8080/"
        },
        "id": "kJXr-B_gazr4",
        "outputId": "e2be4abc-7976-4316-d595-6707febca3d5"
      },
      "execution_count": 37,
      "outputs": [
        {
          "output_type": "execute_result",
          "data": {
            "text/plain": [
              "device(type='cuda', index=0)"
            ]
          },
          "metadata": {},
          "execution_count": 37
        }
      ]
    },
    {
      "cell_type": "code",
      "source": [
        "\n",
        "#Training the model\n",
        "\n",
        "#we need all this: Loss function\n",
        "#Optimizer\n",
        "#Training Loop\n",
        "#Testing Loop\n"
      ],
      "metadata": {
        "id": "ltCuV_zIcADN"
      },
      "execution_count": 38,
      "outputs": []
    },
    {
      "cell_type": "code",
      "source": [
        "#Setup the loss function\n",
        "loss_fn = nn.L1Loss()\n",
        "\n",
        "#Setup our optimizer\n",
        "optimizer = torch.optim.SGD(params=model1.parameters(),\n",
        "                            lr=0.01)"
      ],
      "metadata": {
        "id": "HHwy4OnLcn1u"
      },
      "execution_count": 39,
      "outputs": []
    },
    {
      "cell_type": "code",
      "source": [
        "#let's write a training loop\n",
        "torch.manual_seed(42)\n",
        "\n",
        "epochs = 300\n",
        "\n",
        "#put the data on the target device(device agnostic code for the data)\n",
        "X_train = X_train.to(device)\n",
        "y_train = y_train.to(device)\n",
        "X_test = X_test.to(device)\n",
        "y_test = y_test.to(device)\n",
        "\n",
        "for epoch in range(epochs):\n",
        "  model1.train()\n",
        "\n",
        "  #forward pass\n",
        "  y_pred = model1(X_train)\n",
        "\n",
        "  #calculate the loss\n",
        "  loss = loss_fn(y_pred, y_train)\n",
        "\n",
        "  #optimize to zero grad\n",
        "  optimizer.zero_grad()\n",
        "\n",
        "  #perform backpropogation\n",
        "  loss.backward()\n",
        "\n",
        "  #optimizer step\n",
        "  optimizer.step()\n",
        "\n",
        "  ##Testing\n",
        "\n",
        "  model1.eval()\n",
        "  with torch.inference_mode():\n",
        "    test_pred = model1(X_test)\n",
        "\n",
        "    test_loss = loss_fn(test_pred, y_test)\n",
        "\n",
        "  #print out all the data\n",
        "\n",
        "  if epoch %10 == 0:\n",
        "    print(f\"Epoch:{epoch} | Loss:{loss} | Test loss:{test_loss}\")\n"
      ],
      "metadata": {
        "colab": {
          "base_uri": "https://localhost:8080/"
        },
        "id": "1NfeB7Rgd0zD",
        "outputId": "89a23ce2-3bc7-48ce-8527-6ea8d691c7d0"
      },
      "execution_count": 40,
      "outputs": [
        {
          "output_type": "stream",
          "name": "stdout",
          "text": [
            "Epoch:0 | Loss:0.16474509239196777 | Test loss:0.45782917737960815\n",
            "Epoch:10 | Loss:0.1621313989162445 | Test loss:0.45136329531669617\n",
            "Epoch:20 | Loss:0.15951767563819885 | Test loss:0.44489747285842896\n",
            "Epoch:30 | Loss:0.15690398216247559 | Test loss:0.43843162059783936\n",
            "Epoch:40 | Loss:0.15429028868675232 | Test loss:0.43196576833724976\n",
            "Epoch:50 | Loss:0.15167658030986786 | Test loss:0.42549994587898254\n",
            "Epoch:60 | Loss:0.1490628868341446 | Test loss:0.41903409361839294\n",
            "Epoch:70 | Loss:0.14644917845726013 | Test loss:0.41256824135780334\n",
            "Epoch:80 | Loss:0.14383547008037567 | Test loss:0.40610238909721375\n",
            "Epoch:90 | Loss:0.1412217617034912 | Test loss:0.39963656663894653\n",
            "Epoch:100 | Loss:0.13860806822776794 | Test loss:0.39317071437835693\n",
            "Epoch:110 | Loss:0.1359943449497223 | Test loss:0.38670486211776733\n",
            "Epoch:120 | Loss:0.13338065147399902 | Test loss:0.38023900985717773\n",
            "Epoch:130 | Loss:0.13076695799827576 | Test loss:0.3737731873989105\n",
            "Epoch:140 | Loss:0.1281532347202301 | Test loss:0.3673073351383209\n",
            "Epoch:150 | Loss:0.12553955614566803 | Test loss:0.36084145307540894\n",
            "Epoch:160 | Loss:0.12292584031820297 | Test loss:0.3543756306171417\n",
            "Epoch:170 | Loss:0.1203121468424797 | Test loss:0.3479097783565521\n",
            "Epoch:180 | Loss:0.11769844591617584 | Test loss:0.3414439260959625\n",
            "Epoch:190 | Loss:0.11508473008871078 | Test loss:0.3349780738353729\n",
            "Epoch:200 | Loss:0.11247103661298752 | Test loss:0.3285122215747833\n",
            "Epoch:210 | Loss:0.10985733568668365 | Test loss:0.3220463991165161\n",
            "Epoch:220 | Loss:0.1072436198592186 | Test loss:0.3155805468559265\n",
            "Epoch:230 | Loss:0.10464245080947876 | Test loss:0.3076295256614685\n",
            "Epoch:240 | Loss:0.10204124450683594 | Test loss:0.2996784746646881\n",
            "Epoch:250 | Loss:0.09944005310535431 | Test loss:0.2917274534702301\n",
            "Epoch:260 | Loss:0.09683886915445328 | Test loss:0.2837764322757721\n",
            "Epoch:270 | Loss:0.09422515332698822 | Test loss:0.2773105800151825\n",
            "Epoch:280 | Loss:0.09162397682666779 | Test loss:0.2693595290184021\n",
            "Epoch:290 | Loss:0.08902277797460556 | Test loss:0.2614085078239441\n"
          ]
        }
      ]
    },
    {
      "cell_type": "code",
      "source": [
        "model1.state_dict()"
      ],
      "metadata": {
        "colab": {
          "base_uri": "https://localhost:8080/"
        },
        "id": "kfdDKnzZhNUc",
        "outputId": "123c1595-395e-450b-8551-63ca1c337a5e"
      },
      "execution_count": 41,
      "outputs": [
        {
          "output_type": "execute_result",
          "data": {
            "text/plain": [
              "OrderedDict([('linear_layer.weight', tensor([[0.1902]], device='cuda:0')),\n",
              "             ('linear_layer.bias', tensor([0.5640], device='cuda:0'))])"
            ]
          },
          "metadata": {},
          "execution_count": 41
        }
      ]
    },
    {
      "cell_type": "code",
      "source": [
        "weight, bias"
      ],
      "metadata": {
        "colab": {
          "base_uri": "https://localhost:8080/"
        },
        "id": "3Zal_7aYhVIg",
        "outputId": "1489ad20-c8dc-4981-98f4-a47273cb1534"
      },
      "execution_count": 42,
      "outputs": [
        {
          "output_type": "execute_result",
          "data": {
            "text/plain": [
              "(0.7, 0.4)"
            ]
          },
          "metadata": {},
          "execution_count": 42
        }
      ]
    },
    {
      "cell_type": "markdown",
      "source": [
        "## Making and evaluating the predictions"
      ],
      "metadata": {
        "id": "BR25oB8aTBkA"
      }
    },
    {
      "cell_type": "code",
      "source": [
        "\n",
        "\n",
        "#Turn the model into evaluation mode\n",
        "model1.eval() #we need to turn this in evaluation or if we are doing traing need to turn in train mode\n",
        "\n",
        "#make predictions on the test data\n",
        "with torch.inference_mode():\n",
        "  y_pred = model1(X_test)\n",
        "y_pred"
      ],
      "metadata": {
        "colab": {
          "base_uri": "https://localhost:8080/"
        },
        "id": "wrLubRC9OR_b",
        "outputId": "11cf884e-a9be-4009-8d53-9bc23da95895"
      },
      "execution_count": 46,
      "outputs": [
        {
          "output_type": "execute_result",
          "data": {
            "text/plain": [
              "tensor([[0.6933],\n",
              "        [0.7009],\n",
              "        [0.7085],\n",
              "        [0.7161],\n",
              "        [0.7237],\n",
              "        [0.7313],\n",
              "        [0.7389],\n",
              "        [0.7465]], device='cuda:0')"
            ]
          },
          "metadata": {},
          "execution_count": 46
        }
      ]
    },
    {
      "cell_type": "code",
      "source": [
        "#check out our model predicitons visually\n",
        "plot_prediction(preditions=y_pred.cpu())"
      ],
      "metadata": {
        "colab": {
          "base_uri": "https://localhost:8080/",
          "height": 677
        },
        "id": "W--LEf7HQz57",
        "outputId": "6522857a-f950-44d5-d57f-43c061f9beab"
      },
      "execution_count": 49,
      "outputs": [
        {
          "output_type": "display_data",
          "data": {
            "text/plain": [
              "<Figure size 1000x800 with 1 Axes>"
            ],
            "image/png": "[encoded data removed]"
          },
          "metadata": {}
        }
      ]
    },
    {
      "cell_type": "markdown",
      "source": [
        "#Saving and load model\n"
      ],
      "metadata": {
        "id": "Ja6kW8yFRnpj"
      }
    },
    {
      "cell_type": "code",
      "source": [
        "from pathlib import Path\n",
        "\n",
        "#Create model directory\n",
        "MODEL_PATH = Path(\"models\")\n",
        "MODEL_PATH.mkdir(parents=True, exist_ok=True)\n",
        "\n",
        "#Create model save path\n",
        "MODEL_NAME = \"1_pytorch_Workflow_model1.pth\"\n",
        "MODEL_SAVE_PATH = MODEL_PATH / MODEL_NAME\n",
        "\n",
        "MODEL_SAVE_PATH\n",
        "\n",
        "#Save the model state dict\n",
        "print(f\"Saving model to: {MODEL_SAVE_PATH}\")\n",
        "torch.save(obj=model1.state_dict())"
      ],
      "metadata": {
        "colab": {
          "base_uri": "https://localhost:8080/",
          "height": 193
        },
        "id": "XHURimIkS9C4",
        "outputId": "9f0d12e5-d5f3-46ad-afa9-b00d2d960705"
      },
      "execution_count": 57,
      "outputs": [
        {
          "output_type": "stream",
          "name": "stdout",
          "text": [
            "Saving model to: models/1_pytorch_Workflow_model1.pth\n"
          ]
        },
        {
          "output_type": "error",
          "ename": "TypeError",
          "evalue": "save() missing 1 required positional argument: 'f'",
          "traceback": [
            "\u001b[0;31m---------------------------------------------------------------------------\u001b[0m",
            "\u001b[0;31mTypeError\u001b[0m                                 Traceback (most recent call last)",
            "\u001b[0;32m<ipython-input-57-5d420d07c86b>\u001b[0m in \u001b[0;36m<cell line: 15>\u001b[0;34m()\u001b[0m\n\u001b[1;32m     13\u001b[0m \u001b[0;31m#Save the model state dict\u001b[0m\u001b[0;34m\u001b[0m\u001b[0;34m\u001b[0m\u001b[0m\n\u001b[1;32m     14\u001b[0m \u001b[0mprint\u001b[0m\u001b[0;34m(\u001b[0m\u001b[0;34mf\"Saving model to: {MODEL_SAVE_PATH}\"\u001b[0m\u001b[0;34m)\u001b[0m\u001b[0;34m\u001b[0m\u001b[0;34m\u001b[0m\u001b[0m\n\u001b[0;32m---> 15\u001b[0;31m \u001b[0mtorch\u001b[0m\u001b[0;34m.\u001b[0m\u001b[0msave\u001b[0m\u001b[0;34m(\u001b[0m\u001b[0mobj\u001b[0m\u001b[0;34m=\u001b[0m \u001b[0mmodel1\u001b[0m\u001b[0;34m.\u001b[0m\u001b[0mstate_dict\u001b[0m\u001b[0;34m(\u001b[0m\u001b[0;34m)\u001b[0m\u001b[0;34m)\u001b[0m\u001b[0;34m\u001b[0m\u001b[0;34m\u001b[0m\u001b[0m\n\u001b[0m",
            "\u001b[0;31mTypeError\u001b[0m: save() missing 1 required positional argument: 'f'"
          ]
        }
      ]
    },
    {
      "cell_type": "code",
      "source": [
        "\n",
        "\n",
        "model1.state_dict()"
      ],
      "metadata": {
        "colab": {
          "base_uri": "https://localhost:8080/"
        },
        "id": "J1Wkt0_bUPq-",
        "outputId": "d6f6488a-b177-4e3a-98b1-dab00b07604e"
      },
      "execution_count": 58,
      "outputs": [
        {
          "output_type": "execute_result",
          "data": {
            "text/plain": [
              "OrderedDict([('linear_layer.weight', tensor([[0.1902]], device='cuda:0')),\n",
              "             ('linear_layer.bias', tensor([0.5640], device='cuda:0'))])"
            ]
          },
          "metadata": {},
          "execution_count": 58
        }
      ]
    },
    {
      "cell_type": "code",
      "source": [],
      "metadata": {
        "id": "-4nfTdRPUIgx"
      },
      "execution_count": null,
      "outputs": []
    }
  ]
}